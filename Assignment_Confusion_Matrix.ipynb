{
  "cells": [
    {
      "cell_type": "markdown",
      "metadata": {
        "id": "view-in-github",
        "colab_type": "text"
      },
      "source": [
        "<a href=\"https://colab.research.google.com/github/imamsohel/Decision-Tree-Practice/blob/main/Assignment_Confusion_Matrix.ipynb\" target=\"_parent\"><img src=\"https://colab.research.google.com/assets/colab-badge.svg\" alt=\"Open In Colab\"/></a>"
      ]
    },
    {
      "cell_type": "code",
      "execution_count": null,
      "id": "c8c10e00",
      "metadata": {
        "id": "c8c10e00"
      },
      "outputs": [],
      "source": [
        "#importing libraries\n",
        "import pandas as pd\n",
        "import numpy\n",
        "import matplotlib.pyplot as plt\n",
        "import seaborn as sns"
      ]
    },
    {
      "cell_type": "code",
      "execution_count": null,
      "id": "a098fd74",
      "metadata": {
        "id": "a098fd74",
        "outputId": "e838c80d-1100-44d5-dff7-77018d577bfa",
        "colab": {
          "base_uri": "https://localhost:8080/",
          "height": 270
        }
      },
      "outputs": [
        {
          "output_type": "execute_result",
          "data": {
            "text/plain": [
              "    age  anaemia  creatinine_phosphokinase  diabetes  ejection_fraction  \\\n",
              "0  75.0        0                       582         0                 20   \n",
              "1  55.0        0                      7861         0                 38   \n",
              "2  65.0        0                       146         0                 20   \n",
              "3  50.0        1                       111         0                 20   \n",
              "4  65.0        1                       160         1                 20   \n",
              "\n",
              "   high_blood_pressure  platelets  serum_creatinine  serum_sodium  sex  \\\n",
              "0                    1  265000.00               1.9           130    1   \n",
              "1                    0  263358.03               1.1           136    1   \n",
              "2                    0  162000.00               1.3           129    1   \n",
              "3                    0  210000.00               1.9           137    1   \n",
              "4                    0  327000.00               2.7           116    0   \n",
              "\n",
              "   smoking  time  DEATH_EVENT  \n",
              "0        0     4            1  \n",
              "1        0     6            1  \n",
              "2        1     7            1  \n",
              "3        0     7            1  \n",
              "4        0     8            1  "
            ],
            "text/html": [
              "\n",
              "  <div id=\"df-f0fd9e93-c01e-45da-96dd-aaba8544c287\">\n",
              "    <div class=\"colab-df-container\">\n",
              "      <div>\n",
              "<style scoped>\n",
              "    .dataframe tbody tr th:only-of-type {\n",
              "        vertical-align: middle;\n",
              "    }\n",
              "\n",
              "    .dataframe tbody tr th {\n",
              "        vertical-align: top;\n",
              "    }\n",
              "\n",
              "    .dataframe thead th {\n",
              "        text-align: right;\n",
              "    }\n",
              "</style>\n",
              "<table border=\"1\" class=\"dataframe\">\n",
              "  <thead>\n",
              "    <tr style=\"text-align: right;\">\n",
              "      <th></th>\n",
              "      <th>age</th>\n",
              "      <th>anaemia</th>\n",
              "      <th>creatinine_phosphokinase</th>\n",
              "      <th>diabetes</th>\n",
              "      <th>ejection_fraction</th>\n",
              "      <th>high_blood_pressure</th>\n",
              "      <th>platelets</th>\n",
              "      <th>serum_creatinine</th>\n",
              "      <th>serum_sodium</th>\n",
              "      <th>sex</th>\n",
              "      <th>smoking</th>\n",
              "      <th>time</th>\n",
              "      <th>DEATH_EVENT</th>\n",
              "    </tr>\n",
              "  </thead>\n",
              "  <tbody>\n",
              "    <tr>\n",
              "      <th>0</th>\n",
              "      <td>75.0</td>\n",
              "      <td>0</td>\n",
              "      <td>582</td>\n",
              "      <td>0</td>\n",
              "      <td>20</td>\n",
              "      <td>1</td>\n",
              "      <td>265000.00</td>\n",
              "      <td>1.9</td>\n",
              "      <td>130</td>\n",
              "      <td>1</td>\n",
              "      <td>0</td>\n",
              "      <td>4</td>\n",
              "      <td>1</td>\n",
              "    </tr>\n",
              "    <tr>\n",
              "      <th>1</th>\n",
              "      <td>55.0</td>\n",
              "      <td>0</td>\n",
              "      <td>7861</td>\n",
              "      <td>0</td>\n",
              "      <td>38</td>\n",
              "      <td>0</td>\n",
              "      <td>263358.03</td>\n",
              "      <td>1.1</td>\n",
              "      <td>136</td>\n",
              "      <td>1</td>\n",
              "      <td>0</td>\n",
              "      <td>6</td>\n",
              "      <td>1</td>\n",
              "    </tr>\n",
              "    <tr>\n",
              "      <th>2</th>\n",
              "      <td>65.0</td>\n",
              "      <td>0</td>\n",
              "      <td>146</td>\n",
              "      <td>0</td>\n",
              "      <td>20</td>\n",
              "      <td>0</td>\n",
              "      <td>162000.00</td>\n",
              "      <td>1.3</td>\n",
              "      <td>129</td>\n",
              "      <td>1</td>\n",
              "      <td>1</td>\n",
              "      <td>7</td>\n",
              "      <td>1</td>\n",
              "    </tr>\n",
              "    <tr>\n",
              "      <th>3</th>\n",
              "      <td>50.0</td>\n",
              "      <td>1</td>\n",
              "      <td>111</td>\n",
              "      <td>0</td>\n",
              "      <td>20</td>\n",
              "      <td>0</td>\n",
              "      <td>210000.00</td>\n",
              "      <td>1.9</td>\n",
              "      <td>137</td>\n",
              "      <td>1</td>\n",
              "      <td>0</td>\n",
              "      <td>7</td>\n",
              "      <td>1</td>\n",
              "    </tr>\n",
              "    <tr>\n",
              "      <th>4</th>\n",
              "      <td>65.0</td>\n",
              "      <td>1</td>\n",
              "      <td>160</td>\n",
              "      <td>1</td>\n",
              "      <td>20</td>\n",
              "      <td>0</td>\n",
              "      <td>327000.00</td>\n",
              "      <td>2.7</td>\n",
              "      <td>116</td>\n",
              "      <td>0</td>\n",
              "      <td>0</td>\n",
              "      <td>8</td>\n",
              "      <td>1</td>\n",
              "    </tr>\n",
              "  </tbody>\n",
              "</table>\n",
              "</div>\n",
              "      <button class=\"colab-df-convert\" onclick=\"convertToInteractive('df-f0fd9e93-c01e-45da-96dd-aaba8544c287')\"\n",
              "              title=\"Convert this dataframe to an interactive table.\"\n",
              "              style=\"display:none;\">\n",
              "        \n",
              "  <svg xmlns=\"http://www.w3.org/2000/svg\" height=\"24px\"viewBox=\"0 0 24 24\"\n",
              "       width=\"24px\">\n",
              "    <path d=\"M0 0h24v24H0V0z\" fill=\"none\"/>\n",
              "    <path d=\"M18.56 5.44l.94 2.06.94-2.06 2.06-.94-2.06-.94-.94-2.06-.94 2.06-2.06.94zm-11 1L8.5 8.5l.94-2.06 2.06-.94-2.06-.94L8.5 2.5l-.94 2.06-2.06.94zm10 10l.94 2.06.94-2.06 2.06-.94-2.06-.94-.94-2.06-.94 2.06-2.06.94z\"/><path d=\"M17.41 7.96l-1.37-1.37c-.4-.4-.92-.59-1.43-.59-.52 0-1.04.2-1.43.59L10.3 9.45l-7.72 7.72c-.78.78-.78 2.05 0 2.83L4 21.41c.39.39.9.59 1.41.59.51 0 1.02-.2 1.41-.59l7.78-7.78 2.81-2.81c.8-.78.8-2.07 0-2.86zM5.41 20L4 18.59l7.72-7.72 1.47 1.35L5.41 20z\"/>\n",
              "  </svg>\n",
              "      </button>\n",
              "      \n",
              "  <style>\n",
              "    .colab-df-container {\n",
              "      display:flex;\n",
              "      flex-wrap:wrap;\n",
              "      gap: 12px;\n",
              "    }\n",
              "\n",
              "    .colab-df-convert {\n",
              "      background-color: #E8F0FE;\n",
              "      border: none;\n",
              "      border-radius: 50%;\n",
              "      cursor: pointer;\n",
              "      display: none;\n",
              "      fill: #1967D2;\n",
              "      height: 32px;\n",
              "      padding: 0 0 0 0;\n",
              "      width: 32px;\n",
              "    }\n",
              "\n",
              "    .colab-df-convert:hover {\n",
              "      background-color: #E2EBFA;\n",
              "      box-shadow: 0px 1px 2px rgba(60, 64, 67, 0.3), 0px 1px 3px 1px rgba(60, 64, 67, 0.15);\n",
              "      fill: #174EA6;\n",
              "    }\n",
              "\n",
              "    [theme=dark] .colab-df-convert {\n",
              "      background-color: #3B4455;\n",
              "      fill: #D2E3FC;\n",
              "    }\n",
              "\n",
              "    [theme=dark] .colab-df-convert:hover {\n",
              "      background-color: #434B5C;\n",
              "      box-shadow: 0px 1px 3px 1px rgba(0, 0, 0, 0.15);\n",
              "      filter: drop-shadow(0px 1px 2px rgba(0, 0, 0, 0.3));\n",
              "      fill: #FFFFFF;\n",
              "    }\n",
              "  </style>\n",
              "\n",
              "      <script>\n",
              "        const buttonEl =\n",
              "          document.querySelector('#df-f0fd9e93-c01e-45da-96dd-aaba8544c287 button.colab-df-convert');\n",
              "        buttonEl.style.display =\n",
              "          google.colab.kernel.accessAllowed ? 'block' : 'none';\n",
              "\n",
              "        async function convertToInteractive(key) {\n",
              "          const element = document.querySelector('#df-f0fd9e93-c01e-45da-96dd-aaba8544c287');\n",
              "          const dataTable =\n",
              "            await google.colab.kernel.invokeFunction('convertToInteractive',\n",
              "                                                     [key], {});\n",
              "          if (!dataTable) return;\n",
              "\n",
              "          const docLinkHtml = 'Like what you see? Visit the ' +\n",
              "            '<a target=\"_blank\" href=https://colab.research.google.com/notebooks/data_table.ipynb>data table notebook</a>'\n",
              "            + ' to learn more about interactive tables.';\n",
              "          element.innerHTML = '';\n",
              "          dataTable['output_type'] = 'display_data';\n",
              "          await google.colab.output.renderOutput(dataTable, element);\n",
              "          const docLink = document.createElement('div');\n",
              "          docLink.innerHTML = docLinkHtml;\n",
              "          element.appendChild(docLink);\n",
              "        }\n",
              "      </script>\n",
              "    </div>\n",
              "  </div>\n",
              "  "
            ]
          },
          "metadata": {},
          "execution_count": 2
        }
      ],
      "source": [
        "df = pd.read_csv(\"/content/heart failure.csv - heart failure.csv.csv\") # upload data\n",
        "df.head() #first 5 rows"
      ]
    },
    {
      "cell_type": "code",
      "execution_count": null,
      "id": "432b4994",
      "metadata": {
        "scrolled": true,
        "id": "432b4994",
        "outputId": "aadfd9c2-68c3-4a22-8853-4e3f12b7231d",
        "colab": {
          "base_uri": "https://localhost:8080/"
        }
      },
      "outputs": [
        {
          "output_type": "stream",
          "name": "stdout",
          "text": [
            "<class 'pandas.core.frame.DataFrame'>\n",
            "RangeIndex: 299 entries, 0 to 298\n",
            "Data columns (total 13 columns):\n",
            " #   Column                    Non-Null Count  Dtype  \n",
            "---  ------                    --------------  -----  \n",
            " 0   age                       299 non-null    float64\n",
            " 1   anaemia                   299 non-null    int64  \n",
            " 2   creatinine_phosphokinase  299 non-null    int64  \n",
            " 3   diabetes                  299 non-null    int64  \n",
            " 4   ejection_fraction         299 non-null    int64  \n",
            " 5   high_blood_pressure       299 non-null    int64  \n",
            " 6   platelets                 299 non-null    float64\n",
            " 7   serum_creatinine          299 non-null    float64\n",
            " 8   serum_sodium              299 non-null    int64  \n",
            " 9   sex                       299 non-null    int64  \n",
            " 10  smoking                   299 non-null    int64  \n",
            " 11  time                      299 non-null    int64  \n",
            " 12  DEATH_EVENT               299 non-null    int64  \n",
            "dtypes: float64(3), int64(10)\n",
            "memory usage: 30.5 KB\n"
          ]
        }
      ],
      "source": [
        "df.info() # know your data frame"
      ]
    },
    {
      "cell_type": "code",
      "execution_count": null,
      "id": "b3dc925b",
      "metadata": {
        "id": "b3dc925b",
        "outputId": "1e3f39a1-5263-4f3c-f139-3ff92056ffe5"
      },
      "outputs": [
        {
          "data": {
            "text/plain": [
              "0    203\n",
              "1     96\n",
              "Name: DEATH_EVENT, dtype: int64"
            ]
          },
          "execution_count": 7,
          "metadata": {},
          "output_type": "execute_result"
        }
      ],
      "source": [
        "df.DEATH_EVENT.value_counts() # .value_counts() important function, no death 203 adn death 96 person."
      ]
    },
    {
      "cell_type": "code",
      "execution_count": null,
      "id": "44802493",
      "metadata": {
        "id": "44802493",
        "outputId": "149b73ef-6894-4d2a-ac97-592683018bb8"
      },
      "outputs": [
        {
          "data": {
            "text/plain": [
              "0.3210702341137124"
            ]
          },
          "execution_count": 9,
          "metadata": {},
          "output_type": "execute_result"
        }
      ],
      "source": [
        "96 / (96+203) # percent of death"
      ]
    },
    {
      "cell_type": "code",
      "execution_count": null,
      "id": "2fe4961c",
      "metadata": {
        "id": "2fe4961c",
        "outputId": "43e40e9f-79e3-49ef-b71a-669790dfbf3d"
      },
      "outputs": [
        {
          "data": {
            "text/plain": [
              "<AxesSubplot:xlabel='DEATH_EVENT', ylabel='count'>"
            ]
          },
          "execution_count": 11,
          "metadata": {},
          "output_type": "execute_result"
        },
        {
          "data": {
            "image/png": "[encoded data removed]",
            "text/plain": [
              "<Figure size 432x288 with 1 Axes>"
            ]
          },
          "metadata": {
            "needs_background": "light"
          },
          "output_type": "display_data"
        }
      ],
      "source": [
        "sns.countplot(x = 'DEATH_EVENT',data=df) #.countplot() seaborn function."
      ]
    },
    {
      "cell_type": "code",
      "execution_count": null,
      "id": "7eea112d",
      "metadata": {
        "id": "7eea112d",
        "outputId": "e85aef60-4e9f-4b6a-aae5-7f0894971b91"
      },
      "outputs": [
        {
          "data": {
            "text/plain": [
              "<AxesSubplot:xlabel='anaemia', ylabel='count'>"
            ]
          },
          "execution_count": 13,
          "metadata": {},
          "output_type": "execute_result"
        },
        {
          "data": {
            "image/png": "[encoded data removed]",
            "text/plain": [
              "<Figure size 432x288 with 1 Axes>"
            ]
          },
          "metadata": {
            "needs_background": "light"
          },
          "output_type": "display_data"
        }
      ],
      "source": [
        "sns.countplot(x = 'anaemia', hue='DEATH_EVENT', data=df) \n",
        "# 170 has no anaemia (Out of 170 anaemia patient, 120 not encounter death, 50 encounter death)\n",
        "# 129 has anaemia((Out of 129 anaemia patient, 80 not encounter death, 49 encounter death)). "
      ]
    },
    {
      "cell_type": "code",
      "execution_count": null,
      "id": "e8f83eb0",
      "metadata": {
        "id": "e8f83eb0",
        "outputId": "22ec6bb3-e6c7-4891-c4cf-6a8c0698b02d"
      },
      "outputs": [
        {
          "data": {
            "text/plain": [
              "0    170\n",
              "1    129\n",
              "Name: anaemia, dtype: int64"
            ]
          },
          "execution_count": 16,
          "metadata": {},
          "output_type": "execute_result"
        }
      ],
      "source": [
        "df.anaemia.value_counts()"
      ]
    },
    {
      "cell_type": "code",
      "execution_count": null,
      "id": "d4ee37f3",
      "metadata": {
        "id": "d4ee37f3",
        "outputId": "93fe4aff-e81c-48c2-941a-b87de4d2252c"
      },
      "outputs": [
        {
          "data": {
            "text/plain": [
              "<AxesSubplot:xlabel='count', ylabel='anaemia'>"
            ]
          },
          "execution_count": 14,
          "metadata": {},
          "output_type": "execute_result"
        },
        {
          "data": {
            "image/png": "[encoded data removed]",
            "text/plain": [
              "<Figure size 432x288 with 1 Axes>"
            ]
          },
          "metadata": {
            "needs_background": "light"
          },
          "output_type": "display_data"
        }
      ],
      "source": [
        "sns.countplot(y = 'anaemia', hue='DEATH_EVENT', data=df)"
      ]
    },
    {
      "cell_type": "code",
      "execution_count": null,
      "id": "d183a7bc",
      "metadata": {
        "id": "d183a7bc",
        "outputId": "be9a0789-8ba2-496f-ce62-6ebd13ebccea"
      },
      "outputs": [
        {
          "data": {
            "text/plain": [
              "<AxesSubplot:xlabel='high_blood_pressure', ylabel='count'>"
            ]
          },
          "execution_count": 18,
          "metadata": {},
          "output_type": "execute_result"
        },
        {
          "data": {
            "image/png": "[encoded data removed]",
            "text/plain": [
              "<Figure size 432x288 with 1 Axes>"
            ]
          },
          "metadata": {
            "needs_background": "light"
          },
          "output_type": "display_data"
        }
      ],
      "source": [
        "sns.countplot(x = 'high_blood_pressure', hue='DEATH_EVENT', data=df)"
      ]
    },
    {
      "cell_type": "code",
      "execution_count": null,
      "id": "44ba65e9",
      "metadata": {
        "id": "44ba65e9",
        "outputId": "28d0ef50-a8c0-41c4-d9e8-6926633b9a27"
      },
      "outputs": [
        {
          "data": {
            "text/plain": [
              "<AxesSubplot:xlabel='smoking', ylabel='count'>"
            ]
          },
          "execution_count": 19,
          "metadata": {},
          "output_type": "execute_result"
        },
        {
          "data": {
            "image/png": "[encoded data removed]",
            "text/plain": [
              "<Figure size 432x288 with 1 Axes>"
            ]
          },
          "metadata": {
            "needs_background": "light"
          },
          "output_type": "display_data"
        }
      ],
      "source": [
        "sns.countplot(x = 'smoking', hue='DEATH_EVENT', data=df)"
      ]
    },
    {
      "cell_type": "code",
      "execution_count": null,
      "id": "a601ba9f",
      "metadata": {
        "id": "a601ba9f"
      },
      "outputs": [],
      "source": [
        "#https://archive.ics.uci.edu/ml/index.php"
      ]
    },
    {
      "cell_type": "code",
      "execution_count": null,
      "id": "417ee3d5",
      "metadata": {
        "id": "417ee3d5",
        "outputId": "b399f97a-cbd5-4ec1-dc02-d9eba1c97a1a"
      },
      "outputs": [
        {
          "data": {
            "text/html": [
              "<div>\n",
              "<style scoped>\n",
              "    .dataframe tbody tr th:only-of-type {\n",
              "        vertical-align: middle;\n",
              "    }\n",
              "\n",
              "    .dataframe tbody tr th {\n",
              "        vertical-align: top;\n",
              "    }\n",
              "\n",
              "    .dataframe thead th {\n",
              "        text-align: right;\n",
              "    }\n",
              "</style>\n",
              "<table border=\"1\" class=\"dataframe\">\n",
              "  <thead>\n",
              "    <tr style=\"text-align: right;\">\n",
              "      <th></th>\n",
              "      <th>age</th>\n",
              "      <th>anaemia</th>\n",
              "      <th>creatinine_phosphokinase</th>\n",
              "      <th>diabetes</th>\n",
              "      <th>ejection_fraction</th>\n",
              "      <th>high_blood_pressure</th>\n",
              "      <th>platelets</th>\n",
              "      <th>serum_creatinine</th>\n",
              "      <th>serum_sodium</th>\n",
              "      <th>sex</th>\n",
              "      <th>smoking</th>\n",
              "      <th>time</th>\n",
              "      <th>DEATH_EVENT</th>\n",
              "    </tr>\n",
              "  </thead>\n",
              "  <tbody>\n",
              "    <tr>\n",
              "      <th>count</th>\n",
              "      <td>299.000000</td>\n",
              "      <td>299.000000</td>\n",
              "      <td>299.000000</td>\n",
              "      <td>299.000000</td>\n",
              "      <td>299.000000</td>\n",
              "      <td>299.000000</td>\n",
              "      <td>299.000000</td>\n",
              "      <td>299.00000</td>\n",
              "      <td>299.000000</td>\n",
              "      <td>299.000000</td>\n",
              "      <td>299.00000</td>\n",
              "      <td>299.000000</td>\n",
              "      <td>299.00000</td>\n",
              "    </tr>\n",
              "    <tr>\n",
              "      <th>mean</th>\n",
              "      <td>60.833893</td>\n",
              "      <td>0.431438</td>\n",
              "      <td>581.839465</td>\n",
              "      <td>0.418060</td>\n",
              "      <td>38.083612</td>\n",
              "      <td>0.351171</td>\n",
              "      <td>263358.029264</td>\n",
              "      <td>1.39388</td>\n",
              "      <td>136.625418</td>\n",
              "      <td>0.648829</td>\n",
              "      <td>0.32107</td>\n",
              "      <td>130.260870</td>\n",
              "      <td>0.32107</td>\n",
              "    </tr>\n",
              "    <tr>\n",
              "      <th>std</th>\n",
              "      <td>11.894809</td>\n",
              "      <td>0.496107</td>\n",
              "      <td>970.287881</td>\n",
              "      <td>0.494067</td>\n",
              "      <td>11.834841</td>\n",
              "      <td>0.478136</td>\n",
              "      <td>97804.236869</td>\n",
              "      <td>1.03451</td>\n",
              "      <td>4.412477</td>\n",
              "      <td>0.478136</td>\n",
              "      <td>0.46767</td>\n",
              "      <td>77.614208</td>\n",
              "      <td>0.46767</td>\n",
              "    </tr>\n",
              "    <tr>\n",
              "      <th>min</th>\n",
              "      <td>40.000000</td>\n",
              "      <td>0.000000</td>\n",
              "      <td>23.000000</td>\n",
              "      <td>0.000000</td>\n",
              "      <td>14.000000</td>\n",
              "      <td>0.000000</td>\n",
              "      <td>25100.000000</td>\n",
              "      <td>0.50000</td>\n",
              "      <td>113.000000</td>\n",
              "      <td>0.000000</td>\n",
              "      <td>0.00000</td>\n",
              "      <td>4.000000</td>\n",
              "      <td>0.00000</td>\n",
              "    </tr>\n",
              "    <tr>\n",
              "      <th>25%</th>\n",
              "      <td>51.000000</td>\n",
              "      <td>0.000000</td>\n",
              "      <td>116.500000</td>\n",
              "      <td>0.000000</td>\n",
              "      <td>30.000000</td>\n",
              "      <td>0.000000</td>\n",
              "      <td>212500.000000</td>\n",
              "      <td>0.90000</td>\n",
              "      <td>134.000000</td>\n",
              "      <td>0.000000</td>\n",
              "      <td>0.00000</td>\n",
              "      <td>73.000000</td>\n",
              "      <td>0.00000</td>\n",
              "    </tr>\n",
              "    <tr>\n",
              "      <th>50%</th>\n",
              "      <td>60.000000</td>\n",
              "      <td>0.000000</td>\n",
              "      <td>250.000000</td>\n",
              "      <td>0.000000</td>\n",
              "      <td>38.000000</td>\n",
              "      <td>0.000000</td>\n",
              "      <td>262000.000000</td>\n",
              "      <td>1.10000</td>\n",
              "      <td>137.000000</td>\n",
              "      <td>1.000000</td>\n",
              "      <td>0.00000</td>\n",
              "      <td>115.000000</td>\n",
              "      <td>0.00000</td>\n",
              "    </tr>\n",
              "    <tr>\n",
              "      <th>75%</th>\n",
              "      <td>70.000000</td>\n",
              "      <td>1.000000</td>\n",
              "      <td>582.000000</td>\n",
              "      <td>1.000000</td>\n",
              "      <td>45.000000</td>\n",
              "      <td>1.000000</td>\n",
              "      <td>303500.000000</td>\n",
              "      <td>1.40000</td>\n",
              "      <td>140.000000</td>\n",
              "      <td>1.000000</td>\n",
              "      <td>1.00000</td>\n",
              "      <td>203.000000</td>\n",
              "      <td>1.00000</td>\n",
              "    </tr>\n",
              "    <tr>\n",
              "      <th>max</th>\n",
              "      <td>95.000000</td>\n",
              "      <td>1.000000</td>\n",
              "      <td>7861.000000</td>\n",
              "      <td>1.000000</td>\n",
              "      <td>80.000000</td>\n",
              "      <td>1.000000</td>\n",
              "      <td>850000.000000</td>\n",
              "      <td>9.40000</td>\n",
              "      <td>148.000000</td>\n",
              "      <td>1.000000</td>\n",
              "      <td>1.00000</td>\n",
              "      <td>285.000000</td>\n",
              "      <td>1.00000</td>\n",
              "    </tr>\n",
              "  </tbody>\n",
              "</table>\n",
              "</div>"
            ],
            "text/plain": [
              "              age     anaemia  creatinine_phosphokinase    diabetes  \\\n",
              "count  299.000000  299.000000                299.000000  299.000000   \n",
              "mean    60.833893    0.431438                581.839465    0.418060   \n",
              "std     11.894809    0.496107                970.287881    0.494067   \n",
              "min     40.000000    0.000000                 23.000000    0.000000   \n",
              "25%     51.000000    0.000000                116.500000    0.000000   \n",
              "50%     60.000000    0.000000                250.000000    0.000000   \n",
              "75%     70.000000    1.000000                582.000000    1.000000   \n",
              "max     95.000000    1.000000               7861.000000    1.000000   \n",
              "\n",
              "       ejection_fraction  high_blood_pressure      platelets  \\\n",
              "count         299.000000           299.000000     299.000000   \n",
              "mean           38.083612             0.351171  263358.029264   \n",
              "std            11.834841             0.478136   97804.236869   \n",
              "min            14.000000             0.000000   25100.000000   \n",
              "25%            30.000000             0.000000  212500.000000   \n",
              "50%            38.000000             0.000000  262000.000000   \n",
              "75%            45.000000             1.000000  303500.000000   \n",
              "max            80.000000             1.000000  850000.000000   \n",
              "\n",
              "       serum_creatinine  serum_sodium         sex    smoking        time  \\\n",
              "count         299.00000    299.000000  299.000000  299.00000  299.000000   \n",
              "mean            1.39388    136.625418    0.648829    0.32107  130.260870   \n",
              "std             1.03451      4.412477    0.478136    0.46767   77.614208   \n",
              "min             0.50000    113.000000    0.000000    0.00000    4.000000   \n",
              "25%             0.90000    134.000000    0.000000    0.00000   73.000000   \n",
              "50%             1.10000    137.000000    1.000000    0.00000  115.000000   \n",
              "75%             1.40000    140.000000    1.000000    1.00000  203.000000   \n",
              "max             9.40000    148.000000    1.000000    1.00000  285.000000   \n",
              "\n",
              "       DEATH_EVENT  \n",
              "count    299.00000  \n",
              "mean       0.32107  \n",
              "std        0.46767  \n",
              "min        0.00000  \n",
              "25%        0.00000  \n",
              "50%        0.00000  \n",
              "75%        1.00000  \n",
              "max        1.00000  "
            ]
          },
          "execution_count": 20,
          "metadata": {},
          "output_type": "execute_result"
        }
      ],
      "source": [
        "df.describe() # know statistics of your data"
      ]
    },
    {
      "cell_type": "code",
      "execution_count": null,
      "id": "e1abfbb1",
      "metadata": {
        "id": "e1abfbb1",
        "outputId": "80eeaca1-cf83-4194-fd63-73462fa90113"
      },
      "outputs": [
        {
          "data": {
            "text/plain": [
              "<AxesSubplot:>"
            ]
          },
          "execution_count": 23,
          "metadata": {},
          "output_type": "execute_result"
        },
        {
          "data": {
            "image/png": "[encoded data removed]",
            "text/plain": [
              "<Figure size 1440x576 with 2 Axes>"
            ]
          },
          "metadata": {
            "needs_background": "light"
          },
          "output_type": "display_data"
        }
      ],
      "source": [
        "plt.figure(figsize=(20,8)) # plt is an inbuilt library of pandas, .figure is a built in function.\n",
        "sns.heatmap(df.describe(), annot=True)"
      ]
    },
    {
      "cell_type": "code",
      "execution_count": null,
      "id": "ea5990d9",
      "metadata": {
        "id": "ea5990d9",
        "outputId": "956f0283-4789-40f1-ad9a-a240d4e53f63"
      },
      "outputs": [
        {
          "data": {
            "text/plain": [
              "<AxesSubplot:>"
            ]
          },
          "execution_count": 25,
          "metadata": {},
          "output_type": "execute_result"
        },
        {
          "data": {
            "image/png": "[encoded data removed]",
            "text/plain": [
              "<Figure size 1440x576 with 2 Axes>"
            ]
          },
          "metadata": {
            "needs_background": "light"
          },
          "output_type": "display_data"
        }
      ],
      "source": [
        "plt.figure(figsize=(20,8))\n",
        "sns.heatmap(df.corr(), annot=True)"
      ]
    },
    {
      "cell_type": "markdown",
      "id": "72e5c1bd",
      "metadata": {
        "id": "72e5c1bd"
      },
      "source": [
        "# Ignore"
      ]
    },
    {
      "cell_type": "code",
      "execution_count": null,
      "id": "97820128",
      "metadata": {
        "id": "97820128",
        "colab": {
          "base_uri": "https://localhost:8080/",
          "height": 130
        },
        "outputId": "df6b6dc2-4fe6-48ec-fd3b-5889021f7af1"
      },
      "outputs": [
        {
          "output_type": "error",
          "ename": "SyntaxError",
          "evalue": "ignored",
          "traceback": [
            "\u001b[0;36m  File \u001b[0;32m\"<ipython-input-7-cf6ce1614806>\"\u001b[0;36m, line \u001b[0;32m1\u001b[0m\n\u001b[0;31m    https://scikit-learn.org/stable/model_selection.html\u001b[0m\n\u001b[0m           ^\u001b[0m\n\u001b[0;31mSyntaxError\u001b[0m\u001b[0;31m:\u001b[0m invalid syntax\n"
          ]
        }
      ],
      "source": [
        "https://scikit-learn.org/stable/model_selection.html"
      ]
    },
    {
      "cell_type": "code",
      "execution_count": null,
      "id": "f9fdde05",
      "metadata": {
        "id": "f9fdde05"
      },
      "outputs": [],
      "source": [
        "from sklearn.datasets import make_classification"
      ]
    },
    {
      "cell_type": "code",
      "execution_count": null,
      "id": "7d3694f6",
      "metadata": {
        "id": "7d3694f6"
      },
      "outputs": [],
      "source": [
        "x,y = make_classification(n_samples=100000,\n",
        "    n_features=200)"
      ]
    },
    {
      "cell_type": "code",
      "execution_count": null,
      "id": "8d31f882",
      "metadata": {
        "id": "8d31f882",
        "outputId": "8501e0f3-4a96-4fa6-a735-8ba3c6d08bba",
        "colab": {
          "base_uri": "https://localhost:8080/",
          "height": 488
        }
      },
      "outputs": [
        {
          "output_type": "execute_result",
          "data": {
            "text/plain": [
              "            0         1         2         3         4         5         6    \\\n",
              "0      0.294728  1.443045  0.921807 -0.112975 -2.632014  1.111933 -2.063871   \n",
              "1      0.505146  0.426890 -0.672168  1.689878  0.229594  0.094043 -0.963414   \n",
              "2     -0.601806 -0.121474  0.462230  0.130616 -0.407290 -1.301311 -0.099260   \n",
              "3     -0.345805 -0.472756 -0.770225 -0.071910  0.070938  0.578152  1.284745   \n",
              "4     -0.002073  0.635506  0.599241 -0.456946  0.890775 -0.952510 -0.423949   \n",
              "...         ...       ...       ...       ...       ...       ...       ...   \n",
              "99995  0.916841  1.665338  1.513620  0.636036 -0.464793 -0.298381  1.127708   \n",
              "99996  1.351767  0.430491 -0.957445 -0.444065 -2.040001  0.914279  0.689411   \n",
              "99997 -0.442139 -0.456880  0.649432 -1.210304 -1.617109 -1.211822  0.710721   \n",
              "99998 -1.190984 -0.759039 -0.915310  1.303417  1.415507  1.236503 -0.141733   \n",
              "99999 -1.018950 -0.415327  0.495042  0.001202  0.213463 -0.253170 -1.002648   \n",
              "\n",
              "            7         8         9    ...       190       191       192  \\\n",
              "0     -1.556846  1.012494  0.784602  ...  1.178685 -1.414974 -0.985065   \n",
              "1      1.249121  2.221369 -0.046093  ...  0.577941  1.378843 -2.180160   \n",
              "2     -1.728910  0.306653 -1.593056  ...  0.699048  0.009787 -0.879892   \n",
              "3      0.474228 -1.277953 -1.101771  ... -0.606662  0.702478  1.805591   \n",
              "4      0.817519 -0.563338 -0.365673  ... -0.433661  0.519586  1.489601   \n",
              "...         ...       ...       ...  ...       ...       ...       ...   \n",
              "99995  0.253028 -0.446246 -0.148804  ...  0.304657 -0.315785  1.210616   \n",
              "99996 -0.933477  1.867791 -0.185043  ... -1.829319  0.677714  0.667106   \n",
              "99997  0.763437 -0.010437 -0.410954  ...  0.639049 -0.119028  0.343428   \n",
              "99998 -0.288254  0.160769  1.658135  ...  0.801206  0.185228  0.321922   \n",
              "99999 -0.934283  0.217704  0.983657  ... -0.376951 -0.642361  1.268057   \n",
              "\n",
              "            193       194       195       196       197       198       199  \n",
              "0      0.870274 -1.079730  0.126174 -0.688542 -1.281127 -0.594685  0.477377  \n",
              "1     -1.420051 -0.052507  0.618073 -1.186516  0.418748 -0.171034 -0.490107  \n",
              "2      0.206596  0.231399 -0.086169  0.476984 -1.874095 -0.607841 -0.959055  \n",
              "3     -0.327505 -0.224279 -0.222214 -1.177052 -4.017567  1.696154 -1.109219  \n",
              "4      0.339364 -0.876322 -1.212058  0.234694 -1.569860 -0.482650  0.914950  \n",
              "...         ...       ...       ...       ...       ...       ...       ...  \n",
              "99995 -0.009087  0.028099 -1.087341 -0.933790  0.997625  0.023409 -0.291594  \n",
              "99996  0.243594  2.446096  0.533229  0.858819  0.236602  0.545997 -0.082005  \n",
              "99997 -1.656479 -0.743063  0.412803  0.205591 -1.559747 -0.071442  0.740350  \n",
              "99998  0.426980  0.278049  0.786284 -0.371643 -0.017087  0.943051 -2.475560  \n",
              "99999  0.106298  0.735593  1.123344  0.586039 -0.623356 -3.329690  0.770905  \n",
              "\n",
              "[100000 rows x 200 columns]"
            ],
            "text/html": [
              "\n",
              "  <div id=\"df-0836053e-90db-426b-8136-af1b04d73d3d\">\n",
              "    <div class=\"colab-df-container\">\n",
              "      <div>\n",
              "<style scoped>\n",
              "    .dataframe tbody tr th:only-of-type {\n",
              "        vertical-align: middle;\n",
              "    }\n",
              "\n",
              "    .dataframe tbody tr th {\n",
              "        vertical-align: top;\n",
              "    }\n",
              "\n",
              "    .dataframe thead th {\n",
              "        text-align: right;\n",
              "    }\n",
              "</style>\n",
              "<table border=\"1\" class=\"dataframe\">\n",
              "  <thead>\n",
              "    <tr style=\"text-align: right;\">\n",
              "      <th></th>\n",
              "      <th>0</th>\n",
              "      <th>1</th>\n",
              "      <th>2</th>\n",
              "      <th>3</th>\n",
              "      <th>4</th>\n",
              "      <th>5</th>\n",
              "      <th>6</th>\n",
              "      <th>7</th>\n",
              "      <th>8</th>\n",
              "      <th>9</th>\n",
              "      <th>...</th>\n",
              "      <th>190</th>\n",
              "      <th>191</th>\n",
              "      <th>192</th>\n",
              "      <th>193</th>\n",
              "      <th>194</th>\n",
              "      <th>195</th>\n",
              "      <th>196</th>\n",
              "      <th>197</th>\n",
              "      <th>198</th>\n",
              "      <th>199</th>\n",
              "    </tr>\n",
              "  </thead>\n",
              "  <tbody>\n",
              "    <tr>\n",
              "      <th>0</th>\n",
              "      <td>0.294728</td>\n",
              "      <td>1.443045</td>\n",
              "      <td>0.921807</td>\n",
              "      <td>-0.112975</td>\n",
              "      <td>-2.632014</td>\n",
              "      <td>1.111933</td>\n",
              "      <td>-2.063871</td>\n",
              "      <td>-1.556846</td>\n",
              "      <td>1.012494</td>\n",
              "      <td>0.784602</td>\n",
              "      <td>...</td>\n",
              "      <td>1.178685</td>\n",
              "      <td>-1.414974</td>\n",
              "      <td>-0.985065</td>\n",
              "      <td>0.870274</td>\n",
              "      <td>-1.079730</td>\n",
              "      <td>0.126174</td>\n",
              "      <td>-0.688542</td>\n",
              "      <td>-1.281127</td>\n",
              "      <td>-0.594685</td>\n",
              "      <td>0.477377</td>\n",
              "    </tr>\n",
              "    <tr>\n",
              "      <th>1</th>\n",
              "      <td>0.505146</td>\n",
              "      <td>0.426890</td>\n",
              "      <td>-0.672168</td>\n",
              "      <td>1.689878</td>\n",
              "      <td>0.229594</td>\n",
              "      <td>0.094043</td>\n",
              "      <td>-0.963414</td>\n",
              "      <td>1.249121</td>\n",
              "      <td>2.221369</td>\n",
              "      <td>-0.046093</td>\n",
              "      <td>...</td>\n",
              "      <td>0.577941</td>\n",
              "      <td>1.378843</td>\n",
              "      <td>-2.180160</td>\n",
              "      <td>-1.420051</td>\n",
              "      <td>-0.052507</td>\n",
              "      <td>0.618073</td>\n",
              "      <td>-1.186516</td>\n",
              "      <td>0.418748</td>\n",
              "      <td>-0.171034</td>\n",
              "      <td>-0.490107</td>\n",
              "    </tr>\n",
              "    <tr>\n",
              "      <th>2</th>\n",
              "      <td>-0.601806</td>\n",
              "      <td>-0.121474</td>\n",
              "      <td>0.462230</td>\n",
              "      <td>0.130616</td>\n",
              "      <td>-0.407290</td>\n",
              "      <td>-1.301311</td>\n",
              "      <td>-0.099260</td>\n",
              "      <td>-1.728910</td>\n",
              "      <td>0.306653</td>\n",
              "      <td>-1.593056</td>\n",
              "      <td>...</td>\n",
              "      <td>0.699048</td>\n",
              "      <td>0.009787</td>\n",
              "      <td>-0.879892</td>\n",
              "      <td>0.206596</td>\n",
              "      <td>0.231399</td>\n",
              "      <td>-0.086169</td>\n",
              "      <td>0.476984</td>\n",
              "      <td>-1.874095</td>\n",
              "      <td>-0.607841</td>\n",
              "      <td>-0.959055</td>\n",
              "    </tr>\n",
              "    <tr>\n",
              "      <th>3</th>\n",
              "      <td>-0.345805</td>\n",
              "      <td>-0.472756</td>\n",
              "      <td>-0.770225</td>\n",
              "      <td>-0.071910</td>\n",
              "      <td>0.070938</td>\n",
              "      <td>0.578152</td>\n",
              "      <td>1.284745</td>\n",
              "      <td>0.474228</td>\n",
              "      <td>-1.277953</td>\n",
              "      <td>-1.101771</td>\n",
              "      <td>...</td>\n",
              "      <td>-0.606662</td>\n",
              "      <td>0.702478</td>\n",
              "      <td>1.805591</td>\n",
              "      <td>-0.327505</td>\n",
              "      <td>-0.224279</td>\n",
              "      <td>-0.222214</td>\n",
              "      <td>-1.177052</td>\n",
              "      <td>-4.017567</td>\n",
              "      <td>1.696154</td>\n",
              "      <td>-1.109219</td>\n",
              "    </tr>\n",
              "    <tr>\n",
              "      <th>4</th>\n",
              "      <td>-0.002073</td>\n",
              "      <td>0.635506</td>\n",
              "      <td>0.599241</td>\n",
              "      <td>-0.456946</td>\n",
              "      <td>0.890775</td>\n",
              "      <td>-0.952510</td>\n",
              "      <td>-0.423949</td>\n",
              "      <td>0.817519</td>\n",
              "      <td>-0.563338</td>\n",
              "      <td>-0.365673</td>\n",
              "      <td>...</td>\n",
              "      <td>-0.433661</td>\n",
              "      <td>0.519586</td>\n",
              "      <td>1.489601</td>\n",
              "      <td>0.339364</td>\n",
              "      <td>-0.876322</td>\n",
              "      <td>-1.212058</td>\n",
              "      <td>0.234694</td>\n",
              "      <td>-1.569860</td>\n",
              "      <td>-0.482650</td>\n",
              "      <td>0.914950</td>\n",
              "    </tr>\n",
              "    <tr>\n",
              "      <th>...</th>\n",
              "      <td>...</td>\n",
              "      <td>...</td>\n",
              "      <td>...</td>\n",
              "      <td>...</td>\n",
              "      <td>...</td>\n",
              "      <td>...</td>\n",
              "      <td>...</td>\n",
              "      <td>...</td>\n",
              "      <td>...</td>\n",
              "      <td>...</td>\n",
              "      <td>...</td>\n",
              "      <td>...</td>\n",
              "      <td>...</td>\n",
              "      <td>...</td>\n",
              "      <td>...</td>\n",
              "      <td>...</td>\n",
              "      <td>...</td>\n",
              "      <td>...</td>\n",
              "      <td>...</td>\n",
              "      <td>...</td>\n",
              "      <td>...</td>\n",
              "    </tr>\n",
              "    <tr>\n",
              "      <th>99995</th>\n",
              "      <td>0.916841</td>\n",
              "      <td>1.665338</td>\n",
              "      <td>1.513620</td>\n",
              "      <td>0.636036</td>\n",
              "      <td>-0.464793</td>\n",
              "      <td>-0.298381</td>\n",
              "      <td>1.127708</td>\n",
              "      <td>0.253028</td>\n",
              "      <td>-0.446246</td>\n",
              "      <td>-0.148804</td>\n",
              "      <td>...</td>\n",
              "      <td>0.304657</td>\n",
              "      <td>-0.315785</td>\n",
              "      <td>1.210616</td>\n",
              "      <td>-0.009087</td>\n",
              "      <td>0.028099</td>\n",
              "      <td>-1.087341</td>\n",
              "      <td>-0.933790</td>\n",
              "      <td>0.997625</td>\n",
              "      <td>0.023409</td>\n",
              "      <td>-0.291594</td>\n",
              "    </tr>\n",
              "    <tr>\n",
              "      <th>99996</th>\n",
              "      <td>1.351767</td>\n",
              "      <td>0.430491</td>\n",
              "      <td>-0.957445</td>\n",
              "      <td>-0.444065</td>\n",
              "      <td>-2.040001</td>\n",
              "      <td>0.914279</td>\n",
              "      <td>0.689411</td>\n",
              "      <td>-0.933477</td>\n",
              "      <td>1.867791</td>\n",
              "      <td>-0.185043</td>\n",
              "      <td>...</td>\n",
              "      <td>-1.829319</td>\n",
              "      <td>0.677714</td>\n",
              "      <td>0.667106</td>\n",
              "      <td>0.243594</td>\n",
              "      <td>2.446096</td>\n",
              "      <td>0.533229</td>\n",
              "      <td>0.858819</td>\n",
              "      <td>0.236602</td>\n",
              "      <td>0.545997</td>\n",
              "      <td>-0.082005</td>\n",
              "    </tr>\n",
              "    <tr>\n",
              "      <th>99997</th>\n",
              "      <td>-0.442139</td>\n",
              "      <td>-0.456880</td>\n",
              "      <td>0.649432</td>\n",
              "      <td>-1.210304</td>\n",
              "      <td>-1.617109</td>\n",
              "      <td>-1.211822</td>\n",
              "      <td>0.710721</td>\n",
              "      <td>0.763437</td>\n",
              "      <td>-0.010437</td>\n",
              "      <td>-0.410954</td>\n",
              "      <td>...</td>\n",
              "      <td>0.639049</td>\n",
              "      <td>-0.119028</td>\n",
              "      <td>0.343428</td>\n",
              "      <td>-1.656479</td>\n",
              "      <td>-0.743063</td>\n",
              "      <td>0.412803</td>\n",
              "      <td>0.205591</td>\n",
              "      <td>-1.559747</td>\n",
              "      <td>-0.071442</td>\n",
              "      <td>0.740350</td>\n",
              "    </tr>\n",
              "    <tr>\n",
              "      <th>99998</th>\n",
              "      <td>-1.190984</td>\n",
              "      <td>-0.759039</td>\n",
              "      <td>-0.915310</td>\n",
              "      <td>1.303417</td>\n",
              "      <td>1.415507</td>\n",
              "      <td>1.236503</td>\n",
              "      <td>-0.141733</td>\n",
              "      <td>-0.288254</td>\n",
              "      <td>0.160769</td>\n",
              "      <td>1.658135</td>\n",
              "      <td>...</td>\n",
              "      <td>0.801206</td>\n",
              "      <td>0.185228</td>\n",
              "      <td>0.321922</td>\n",
              "      <td>0.426980</td>\n",
              "      <td>0.278049</td>\n",
              "      <td>0.786284</td>\n",
              "      <td>-0.371643</td>\n",
              "      <td>-0.017087</td>\n",
              "      <td>0.943051</td>\n",
              "      <td>-2.475560</td>\n",
              "    </tr>\n",
              "    <tr>\n",
              "      <th>99999</th>\n",
              "      <td>-1.018950</td>\n",
              "      <td>-0.415327</td>\n",
              "      <td>0.495042</td>\n",
              "      <td>0.001202</td>\n",
              "      <td>0.213463</td>\n",
              "      <td>-0.253170</td>\n",
              "      <td>-1.002648</td>\n",
              "      <td>-0.934283</td>\n",
              "      <td>0.217704</td>\n",
              "      <td>0.983657</td>\n",
              "      <td>...</td>\n",
              "      <td>-0.376951</td>\n",
              "      <td>-0.642361</td>\n",
              "      <td>1.268057</td>\n",
              "      <td>0.106298</td>\n",
              "      <td>0.735593</td>\n",
              "      <td>1.123344</td>\n",
              "      <td>0.586039</td>\n",
              "      <td>-0.623356</td>\n",
              "      <td>-3.329690</td>\n",
              "      <td>0.770905</td>\n",
              "    </tr>\n",
              "  </tbody>\n",
              "</table>\n",
              "<p>100000 rows × 200 columns</p>\n",
              "</div>\n",
              "      <button class=\"colab-df-convert\" onclick=\"convertToInteractive('df-0836053e-90db-426b-8136-af1b04d73d3d')\"\n",
              "              title=\"Convert this dataframe to an interactive table.\"\n",
              "              style=\"display:none;\">\n",
              "        \n",
              "  <svg xmlns=\"http://www.w3.org/2000/svg\" height=\"24px\"viewBox=\"0 0 24 24\"\n",
              "       width=\"24px\">\n",
              "    <path d=\"M0 0h24v24H0V0z\" fill=\"none\"/>\n",
              "    <path d=\"M18.56 5.44l.94 2.06.94-2.06 2.06-.94-2.06-.94-.94-2.06-.94 2.06-2.06.94zm-11 1L8.5 8.5l.94-2.06 2.06-.94-2.06-.94L8.5 2.5l-.94 2.06-2.06.94zm10 10l.94 2.06.94-2.06 2.06-.94-2.06-.94-.94-2.06-.94 2.06-2.06.94z\"/><path d=\"M17.41 7.96l-1.37-1.37c-.4-.4-.92-.59-1.43-.59-.52 0-1.04.2-1.43.59L10.3 9.45l-7.72 7.72c-.78.78-.78 2.05 0 2.83L4 21.41c.39.39.9.59 1.41.59.51 0 1.02-.2 1.41-.59l7.78-7.78 2.81-2.81c.8-.78.8-2.07 0-2.86zM5.41 20L4 18.59l7.72-7.72 1.47 1.35L5.41 20z\"/>\n",
              "  </svg>\n",
              "      </button>\n",
              "      \n",
              "  <style>\n",
              "    .colab-df-container {\n",
              "      display:flex;\n",
              "      flex-wrap:wrap;\n",
              "      gap: 12px;\n",
              "    }\n",
              "\n",
              "    .colab-df-convert {\n",
              "      background-color: #E8F0FE;\n",
              "      border: none;\n",
              "      border-radius: 50%;\n",
              "      cursor: pointer;\n",
              "      display: none;\n",
              "      fill: #1967D2;\n",
              "      height: 32px;\n",
              "      padding: 0 0 0 0;\n",
              "      width: 32px;\n",
              "    }\n",
              "\n",
              "    .colab-df-convert:hover {\n",
              "      background-color: #E2EBFA;\n",
              "      box-shadow: 0px 1px 2px rgba(60, 64, 67, 0.3), 0px 1px 3px 1px rgba(60, 64, 67, 0.15);\n",
              "      fill: #174EA6;\n",
              "    }\n",
              "\n",
              "    [theme=dark] .colab-df-convert {\n",
              "      background-color: #3B4455;\n",
              "      fill: #D2E3FC;\n",
              "    }\n",
              "\n",
              "    [theme=dark] .colab-df-convert:hover {\n",
              "      background-color: #434B5C;\n",
              "      box-shadow: 0px 1px 3px 1px rgba(0, 0, 0, 0.15);\n",
              "      filter: drop-shadow(0px 1px 2px rgba(0, 0, 0, 0.3));\n",
              "      fill: #FFFFFF;\n",
              "    }\n",
              "  </style>\n",
              "\n",
              "      <script>\n",
              "        const buttonEl =\n",
              "          document.querySelector('#df-0836053e-90db-426b-8136-af1b04d73d3d button.colab-df-convert');\n",
              "        buttonEl.style.display =\n",
              "          google.colab.kernel.accessAllowed ? 'block' : 'none';\n",
              "\n",
              "        async function convertToInteractive(key) {\n",
              "          const element = document.querySelector('#df-0836053e-90db-426b-8136-af1b04d73d3d');\n",
              "          const dataTable =\n",
              "            await google.colab.kernel.invokeFunction('convertToInteractive',\n",
              "                                                     [key], {});\n",
              "          if (!dataTable) return;\n",
              "\n",
              "          const docLinkHtml = 'Like what you see? Visit the ' +\n",
              "            '<a target=\"_blank\" href=https://colab.research.google.com/notebooks/data_table.ipynb>data table notebook</a>'\n",
              "            + ' to learn more about interactive tables.';\n",
              "          element.innerHTML = '';\n",
              "          dataTable['output_type'] = 'display_data';\n",
              "          await google.colab.output.renderOutput(dataTable, element);\n",
              "          const docLink = document.createElement('div');\n",
              "          docLink.innerHTML = docLinkHtml;\n",
              "          element.appendChild(docLink);\n",
              "        }\n",
              "      </script>\n",
              "    </div>\n",
              "  </div>\n",
              "  "
            ]
          },
          "metadata": {},
          "execution_count": 10
        }
      ],
      "source": [
        "pd.DataFrame(x)"
      ]
    },
    {
      "cell_type": "code",
      "execution_count": null,
      "id": "6dd93803",
      "metadata": {
        "id": "6dd93803",
        "outputId": "6f2fa20d-cb12-476d-e747-54135f1476ef",
        "colab": {
          "base_uri": "https://localhost:8080/"
        }
      },
      "outputs": [
        {
          "output_type": "execute_result",
          "data": {
            "text/plain": [
              "0    50026\n",
              "1    49974\n",
              "dtype: int64"
            ]
          },
          "metadata": {},
          "execution_count": 11
        }
      ],
      "source": [
        "y=pd.DataFrame(y)\n",
        "y.value_counts()"
      ]
    },
    {
      "cell_type": "code",
      "execution_count": null,
      "id": "5da2e1e0",
      "metadata": {
        "id": "5da2e1e0",
        "outputId": "4b033109-a86d-4136-cb67-6ddca7668c61"
      },
      "outputs": [
        {
          "data": {
            "text/plain": [
              "array([[ 1.48526323, -1.60696479, -0.61768528, ...,  0.76663693,\n",
              "        -0.29480585, -1.50171728],\n",
              "       [ 0.93467701, -0.68397306, -0.17614821, ..., -1.10296166,\n",
              "         1.35885625,  0.61092873],\n",
              "       [ 0.23815254, -0.48324711,  0.40373693, ...,  0.23353613,\n",
              "        -0.24758651,  0.06484005],\n",
              "       ...,\n",
              "       [-0.64031793,  0.01996379, -1.41180208, ...,  1.07875307,\n",
              "         0.40270652, -1.43976208],\n",
              "       [ 0.02653198, -3.31237281, -1.76265202, ...,  0.06102671,\n",
              "         0.77320721,  0.58484702],\n",
              "       [-0.88700478,  0.1707515 ,  1.83829469, ...,  0.49342806,\n",
              "         0.92934338,  0.96367034]])"
            ]
          },
          "execution_count": 30,
          "metadata": {},
          "output_type": "execute_result"
        }
      ],
      "source": [
        "#x"
      ]
    },
    {
      "cell_type": "code",
      "execution_count": null,
      "id": "5eb5d80d",
      "metadata": {
        "id": "5eb5d80d"
      },
      "outputs": [],
      "source": [
        "training= df.drop('DEATH_EVENT', axis=1) # why we drop, cause 'Death_Event' is our target variable."
      ]
    },
    {
      "cell_type": "code",
      "execution_count": null,
      "id": "96041c4b",
      "metadata": {
        "id": "96041c4b"
      },
      "outputs": [],
      "source": [
        "target = df['DEATH_EVENT'] # this is our target variable, or dependent variable."
      ]
    },
    {
      "cell_type": "code",
      "execution_count": null,
      "id": "1c5cbe52",
      "metadata": {
        "id": "1c5cbe52",
        "outputId": "97f617f6-05c0-4407-f4e7-760e76ec1db2",
        "colab": {
          "base_uri": "https://localhost:8080/",
          "height": 427
        }
      },
      "outputs": [
        {
          "output_type": "execute_result",
          "data": {
            "text/plain": [
              "    age  anaemia  creatinine_phosphokinase  diabetes  ejection_fraction  \\\n",
              "0  75.0        0                       582         0                 20   \n",
              "1  55.0        0                      7861         0                 38   \n",
              "2  65.0        0                       146         0                 20   \n",
              "3  50.0        1                       111         0                 20   \n",
              "4  65.0        1                       160         1                 20   \n",
              "5  90.0        1                        47         0                 40   \n",
              "6  75.0        1                       246         0                 15   \n",
              "7  60.0        1                       315         1                 60   \n",
              "8  65.0        0                       157         0                 65   \n",
              "9  80.0        1                       123         0                 35   \n",
              "\n",
              "   high_blood_pressure  platelets  serum_creatinine  serum_sodium  sex  \\\n",
              "0                    1  265000.00               1.9           130    1   \n",
              "1                    0  263358.03               1.1           136    1   \n",
              "2                    0  162000.00               1.3           129    1   \n",
              "3                    0  210000.00               1.9           137    1   \n",
              "4                    0  327000.00               2.7           116    0   \n",
              "5                    1  204000.00               2.1           132    1   \n",
              "6                    0  127000.00               1.2           137    1   \n",
              "7                    0  454000.00               1.1           131    1   \n",
              "8                    0  263358.03               1.5           138    0   \n",
              "9                    1  388000.00               9.4           133    1   \n",
              "\n",
              "   smoking  time  \n",
              "0        0     4  \n",
              "1        0     6  \n",
              "2        1     7  \n",
              "3        0     7  \n",
              "4        0     8  \n",
              "5        1     8  \n",
              "6        0    10  \n",
              "7        1    10  \n",
              "8        0    10  \n",
              "9        1    10  "
            ],
            "text/html": [
              "\n",
              "  <div id=\"df-f30e69e5-6cc0-4622-8016-c1f47950c848\">\n",
              "    <div class=\"colab-df-container\">\n",
              "      <div>\n",
              "<style scoped>\n",
              "    .dataframe tbody tr th:only-of-type {\n",
              "        vertical-align: middle;\n",
              "    }\n",
              "\n",
              "    .dataframe tbody tr th {\n",
              "        vertical-align: top;\n",
              "    }\n",
              "\n",
              "    .dataframe thead th {\n",
              "        text-align: right;\n",
              "    }\n",
              "</style>\n",
              "<table border=\"1\" class=\"dataframe\">\n",
              "  <thead>\n",
              "    <tr style=\"text-align: right;\">\n",
              "      <th></th>\n",
              "      <th>age</th>\n",
              "      <th>anaemia</th>\n",
              "      <th>creatinine_phosphokinase</th>\n",
              "      <th>diabetes</th>\n",
              "      <th>ejection_fraction</th>\n",
              "      <th>high_blood_pressure</th>\n",
              "      <th>platelets</th>\n",
              "      <th>serum_creatinine</th>\n",
              "      <th>serum_sodium</th>\n",
              "      <th>sex</th>\n",
              "      <th>smoking</th>\n",
              "      <th>time</th>\n",
              "    </tr>\n",
              "  </thead>\n",
              "  <tbody>\n",
              "    <tr>\n",
              "      <th>0</th>\n",
              "      <td>75.0</td>\n",
              "      <td>0</td>\n",
              "      <td>582</td>\n",
              "      <td>0</td>\n",
              "      <td>20</td>\n",
              "      <td>1</td>\n",
              "      <td>265000.00</td>\n",
              "      <td>1.9</td>\n",
              "      <td>130</td>\n",
              "      <td>1</td>\n",
              "      <td>0</td>\n",
              "      <td>4</td>\n",
              "    </tr>\n",
              "    <tr>\n",
              "      <th>1</th>\n",
              "      <td>55.0</td>\n",
              "      <td>0</td>\n",
              "      <td>7861</td>\n",
              "      <td>0</td>\n",
              "      <td>38</td>\n",
              "      <td>0</td>\n",
              "      <td>263358.03</td>\n",
              "      <td>1.1</td>\n",
              "      <td>136</td>\n",
              "      <td>1</td>\n",
              "      <td>0</td>\n",
              "      <td>6</td>\n",
              "    </tr>\n",
              "    <tr>\n",
              "      <th>2</th>\n",
              "      <td>65.0</td>\n",
              "      <td>0</td>\n",
              "      <td>146</td>\n",
              "      <td>0</td>\n",
              "      <td>20</td>\n",
              "      <td>0</td>\n",
              "      <td>162000.00</td>\n",
              "      <td>1.3</td>\n",
              "      <td>129</td>\n",
              "      <td>1</td>\n",
              "      <td>1</td>\n",
              "      <td>7</td>\n",
              "    </tr>\n",
              "    <tr>\n",
              "      <th>3</th>\n",
              "      <td>50.0</td>\n",
              "      <td>1</td>\n",
              "      <td>111</td>\n",
              "      <td>0</td>\n",
              "      <td>20</td>\n",
              "      <td>0</td>\n",
              "      <td>210000.00</td>\n",
              "      <td>1.9</td>\n",
              "      <td>137</td>\n",
              "      <td>1</td>\n",
              "      <td>0</td>\n",
              "      <td>7</td>\n",
              "    </tr>\n",
              "    <tr>\n",
              "      <th>4</th>\n",
              "      <td>65.0</td>\n",
              "      <td>1</td>\n",
              "      <td>160</td>\n",
              "      <td>1</td>\n",
              "      <td>20</td>\n",
              "      <td>0</td>\n",
              "      <td>327000.00</td>\n",
              "      <td>2.7</td>\n",
              "      <td>116</td>\n",
              "      <td>0</td>\n",
              "      <td>0</td>\n",
              "      <td>8</td>\n",
              "    </tr>\n",
              "    <tr>\n",
              "      <th>5</th>\n",
              "      <td>90.0</td>\n",
              "      <td>1</td>\n",
              "      <td>47</td>\n",
              "      <td>0</td>\n",
              "      <td>40</td>\n",
              "      <td>1</td>\n",
              "      <td>204000.00</td>\n",
              "      <td>2.1</td>\n",
              "      <td>132</td>\n",
              "      <td>1</td>\n",
              "      <td>1</td>\n",
              "      <td>8</td>\n",
              "    </tr>\n",
              "    <tr>\n",
              "      <th>6</th>\n",
              "      <td>75.0</td>\n",
              "      <td>1</td>\n",
              "      <td>246</td>\n",
              "      <td>0</td>\n",
              "      <td>15</td>\n",
              "      <td>0</td>\n",
              "      <td>127000.00</td>\n",
              "      <td>1.2</td>\n",
              "      <td>137</td>\n",
              "      <td>1</td>\n",
              "      <td>0</td>\n",
              "      <td>10</td>\n",
              "    </tr>\n",
              "    <tr>\n",
              "      <th>7</th>\n",
              "      <td>60.0</td>\n",
              "      <td>1</td>\n",
              "      <td>315</td>\n",
              "      <td>1</td>\n",
              "      <td>60</td>\n",
              "      <td>0</td>\n",
              "      <td>454000.00</td>\n",
              "      <td>1.1</td>\n",
              "      <td>131</td>\n",
              "      <td>1</td>\n",
              "      <td>1</td>\n",
              "      <td>10</td>\n",
              "    </tr>\n",
              "    <tr>\n",
              "      <th>8</th>\n",
              "      <td>65.0</td>\n",
              "      <td>0</td>\n",
              "      <td>157</td>\n",
              "      <td>0</td>\n",
              "      <td>65</td>\n",
              "      <td>0</td>\n",
              "      <td>263358.03</td>\n",
              "      <td>1.5</td>\n",
              "      <td>138</td>\n",
              "      <td>0</td>\n",
              "      <td>0</td>\n",
              "      <td>10</td>\n",
              "    </tr>\n",
              "    <tr>\n",
              "      <th>9</th>\n",
              "      <td>80.0</td>\n",
              "      <td>1</td>\n",
              "      <td>123</td>\n",
              "      <td>0</td>\n",
              "      <td>35</td>\n",
              "      <td>1</td>\n",
              "      <td>388000.00</td>\n",
              "      <td>9.4</td>\n",
              "      <td>133</td>\n",
              "      <td>1</td>\n",
              "      <td>1</td>\n",
              "      <td>10</td>\n",
              "    </tr>\n",
              "  </tbody>\n",
              "</table>\n",
              "</div>\n",
              "      <button class=\"colab-df-convert\" onclick=\"convertToInteractive('df-f30e69e5-6cc0-4622-8016-c1f47950c848')\"\n",
              "              title=\"Convert this dataframe to an interactive table.\"\n",
              "              style=\"display:none;\">\n",
              "        \n",
              "  <svg xmlns=\"http://www.w3.org/2000/svg\" height=\"24px\"viewBox=\"0 0 24 24\"\n",
              "       width=\"24px\">\n",
              "    <path d=\"M0 0h24v24H0V0z\" fill=\"none\"/>\n",
              "    <path d=\"M18.56 5.44l.94 2.06.94-2.06 2.06-.94-2.06-.94-.94-2.06-.94 2.06-2.06.94zm-11 1L8.5 8.5l.94-2.06 2.06-.94-2.06-.94L8.5 2.5l-.94 2.06-2.06.94zm10 10l.94 2.06.94-2.06 2.06-.94-2.06-.94-.94-2.06-.94 2.06-2.06.94z\"/><path d=\"M17.41 7.96l-1.37-1.37c-.4-.4-.92-.59-1.43-.59-.52 0-1.04.2-1.43.59L10.3 9.45l-7.72 7.72c-.78.78-.78 2.05 0 2.83L4 21.41c.39.39.9.59 1.41.59.51 0 1.02-.2 1.41-.59l7.78-7.78 2.81-2.81c.8-.78.8-2.07 0-2.86zM5.41 20L4 18.59l7.72-7.72 1.47 1.35L5.41 20z\"/>\n",
              "  </svg>\n",
              "      </button>\n",
              "      \n",
              "  <style>\n",
              "    .colab-df-container {\n",
              "      display:flex;\n",
              "      flex-wrap:wrap;\n",
              "      gap: 12px;\n",
              "    }\n",
              "\n",
              "    .colab-df-convert {\n",
              "      background-color: #E8F0FE;\n",
              "      border: none;\n",
              "      border-radius: 50%;\n",
              "      cursor: pointer;\n",
              "      display: none;\n",
              "      fill: #1967D2;\n",
              "      height: 32px;\n",
              "      padding: 0 0 0 0;\n",
              "      width: 32px;\n",
              "    }\n",
              "\n",
              "    .colab-df-convert:hover {\n",
              "      background-color: #E2EBFA;\n",
              "      box-shadow: 0px 1px 2px rgba(60, 64, 67, 0.3), 0px 1px 3px 1px rgba(60, 64, 67, 0.15);\n",
              "      fill: #174EA6;\n",
              "    }\n",
              "\n",
              "    [theme=dark] .colab-df-convert {\n",
              "      background-color: #3B4455;\n",
              "      fill: #D2E3FC;\n",
              "    }\n",
              "\n",
              "    [theme=dark] .colab-df-convert:hover {\n",
              "      background-color: #434B5C;\n",
              "      box-shadow: 0px 1px 3px 1px rgba(0, 0, 0, 0.15);\n",
              "      filter: drop-shadow(0px 1px 2px rgba(0, 0, 0, 0.3));\n",
              "      fill: #FFFFFF;\n",
              "    }\n",
              "  </style>\n",
              "\n",
              "      <script>\n",
              "        const buttonEl =\n",
              "          document.querySelector('#df-f30e69e5-6cc0-4622-8016-c1f47950c848 button.colab-df-convert');\n",
              "        buttonEl.style.display =\n",
              "          google.colab.kernel.accessAllowed ? 'block' : 'none';\n",
              "\n",
              "        async function convertToInteractive(key) {\n",
              "          const element = document.querySelector('#df-f30e69e5-6cc0-4622-8016-c1f47950c848');\n",
              "          const dataTable =\n",
              "            await google.colab.kernel.invokeFunction('convertToInteractive',\n",
              "                                                     [key], {});\n",
              "          if (!dataTable) return;\n",
              "\n",
              "          const docLinkHtml = 'Like what you see? Visit the ' +\n",
              "            '<a target=\"_blank\" href=https://colab.research.google.com/notebooks/data_table.ipynb>data table notebook</a>'\n",
              "            + ' to learn more about interactive tables.';\n",
              "          element.innerHTML = '';\n",
              "          dataTable['output_type'] = 'display_data';\n",
              "          await google.colab.output.renderOutput(dataTable, element);\n",
              "          const docLink = document.createElement('div');\n",
              "          docLink.innerHTML = docLinkHtml;\n",
              "          element.appendChild(docLink);\n",
              "        }\n",
              "      </script>\n",
              "    </div>\n",
              "  </div>\n",
              "  "
            ]
          },
          "metadata": {},
          "execution_count": 17
        }
      ],
      "source": [
        "training.head(10)"
      ]
    },
    {
      "cell_type": "code",
      "execution_count": null,
      "id": "7ca91ada",
      "metadata": {
        "id": "7ca91ada",
        "outputId": "267a78bb-8498-4360-99cb-d7cac34fb437",
        "colab": {
          "base_uri": "https://localhost:8080/"
        }
      },
      "outputs": [
        {
          "output_type": "execute_result",
          "data": {
            "text/plain": [
              "66     1\n",
              "294    0\n",
              "215    0\n",
              "194    1\n",
              "295    0\n",
              "92     0\n",
              "43     0\n",
              "14     0\n",
              "39     1\n",
              "297    0\n",
              "Name: DEATH_EVENT, dtype: int64"
            ]
          },
          "metadata": {},
          "execution_count": 39
        }
      ],
      "source": [
        "target.sample(10)"
      ]
    },
    {
      "cell_type": "markdown",
      "id": "bf6a7545",
      "metadata": {
        "id": "bf6a7545"
      },
      "source": [
        "# Start Again"
      ]
    },
    {
      "cell_type": "code",
      "execution_count": null,
      "id": "88c1dc09",
      "metadata": {
        "id": "88c1dc09"
      },
      "outputs": [],
      "source": [
        "from sklearn.model_selection import train_test_split\n",
        "xtrain, xtest, ytrain, ytest = train_test_split(training,target, random_state=42, test_size=.30)"
      ]
    },
    {
      "cell_type": "code",
      "execution_count": null,
      "id": "e9c2f92d",
      "metadata": {
        "id": "e9c2f92d",
        "outputId": "3cba105b-f21d-44f9-b2dc-e506785c393c",
        "colab": {
          "base_uri": "https://localhost:8080/"
        }
      },
      "outputs": [
        {
          "output_type": "execute_result",
          "data": {
            "text/plain": [
              "(209, 12)"
            ]
          },
          "metadata": {},
          "execution_count": 23
        }
      ],
      "source": [
        "xtrain.shape"
      ]
    },
    {
      "cell_type": "code",
      "execution_count": null,
      "id": "c0e77b21",
      "metadata": {
        "id": "c0e77b21",
        "outputId": "fb29acfb-bbec-4f9c-a025-8170fbb1fd74",
        "colab": {
          "base_uri": "https://localhost:8080/"
        }
      },
      "outputs": [
        {
          "output_type": "execute_result",
          "data": {
            "text/plain": [
              "(90, 12)"
            ]
          },
          "metadata": {},
          "execution_count": 24
        }
      ],
      "source": [
        "xtest.shape"
      ]
    },
    {
      "cell_type": "code",
      "source": [
        "ytrain.shape"
      ],
      "metadata": {
        "colab": {
          "base_uri": "https://localhost:8080/"
        },
        "id": "5IxaOj8u9RoJ",
        "outputId": "0248de27-e2e8-4387-da22-5e140ac0fdc9"
      },
      "id": "5IxaOj8u9RoJ",
      "execution_count": null,
      "outputs": [
        {
          "output_type": "execute_result",
          "data": {
            "text/plain": [
              "(209,)"
            ]
          },
          "metadata": {},
          "execution_count": 25
        }
      ]
    },
    {
      "cell_type": "code",
      "source": [
        "ytest.shape"
      ],
      "metadata": {
        "colab": {
          "base_uri": "https://localhost:8080/"
        },
        "id": "wFFr_L819WbI",
        "outputId": "19c2faf9-c7a9-4d04-ddcf-31adc49a3a22"
      },
      "id": "wFFr_L819WbI",
      "execution_count": null,
      "outputs": [
        {
          "output_type": "execute_result",
          "data": {
            "text/plain": [
              "(90,)"
            ]
          },
          "metadata": {},
          "execution_count": 26
        }
      ]
    },
    {
      "cell_type": "markdown",
      "id": "9342e3f5",
      "metadata": {
        "id": "9342e3f5"
      },
      "source": [
        "# Decision Tree Classifier"
      ]
    },
    {
      "cell_type": "code",
      "execution_count": null,
      "id": "c761eff8",
      "metadata": {
        "id": "c761eff8"
      },
      "outputs": [],
      "source": [
        "from sklearn.tree import DecisionTreeClassifier"
      ]
    },
    {
      "cell_type": "code",
      "execution_count": null,
      "id": "17032672",
      "metadata": {
        "id": "17032672"
      },
      "outputs": [],
      "source": [
        "clf = DecisionTreeClassifier() # clf is our model which is an object."
      ]
    },
    {
      "cell_type": "code",
      "execution_count": null,
      "id": "52db1328",
      "metadata": {
        "id": "52db1328",
        "outputId": "f48973dc-c376-413d-bb07-3655c28a4085",
        "colab": {
          "base_uri": "https://localhost:8080/"
        }
      },
      "outputs": [
        {
          "output_type": "execute_result",
          "data": {
            "text/plain": [
              "DecisionTreeClassifier()"
            ]
          },
          "metadata": {},
          "execution_count": 29
        }
      ],
      "source": [
        "clf.fit(xtrain, ytrain) # .fit means model clf, please train our splitted x and y data under xtrain and y train.\n",
        "#fitting is equal to training. \n",
        "#Then, after it is trained, the model can be used to make predictions, usually with a . predict() method call. "
      ]
    },
    {
      "cell_type": "markdown",
      "id": "ad31b5a7",
      "metadata": {
        "id": "ad31b5a7"
      },
      "source": [
        "# Score"
      ]
    },
    {
      "cell_type": "code",
      "execution_count": null,
      "id": "6475597a",
      "metadata": {
        "id": "6475597a"
      },
      "outputs": [],
      "source": [
        "from sklearn.metrics import classification_report , accuracy_score, confusion_matrix, plot_roc_curve"
      ]
    },
    {
      "cell_type": "code",
      "execution_count": null,
      "id": "bac512ac",
      "metadata": {
        "id": "bac512ac"
      },
      "outputs": [],
      "source": [
        "pred = clf.predict(xtest) # model 'clf' please predict the dependent variaable death_event \n",
        "# using independent xtest data based on the training.\n"
      ]
    },
    {
      "cell_type": "code",
      "execution_count": null,
      "id": "b1ea728a",
      "metadata": {
        "id": "b1ea728a",
        "outputId": "06865b11-2d8d-4ed5-fc1c-f03fdc349edb",
        "colab": {
          "base_uri": "https://localhost:8080/"
        }
      },
      "outputs": [
        {
          "output_type": "execute_result",
          "data": {
            "text/plain": [
              "array([1, 0, 0, 1, 0, 0, 0, 1, 0, 0, 0, 0, 0, 0, 1, 1, 0, 0, 1, 1, 0, 0,\n",
              "       1, 1, 1, 0, 0, 0, 0, 0, 1, 0, 1, 1, 1, 0, 0, 0, 0, 0, 1, 0, 0, 0,\n",
              "       1, 0, 1, 0, 0, 0, 1, 0, 0, 0, 0, 0, 0, 1, 0, 1, 1, 1, 0, 0, 1, 1,\n",
              "       0, 1, 0, 0, 0, 0, 0, 0, 1, 0, 0, 1, 1, 0, 0, 1, 0, 0, 0, 0, 1, 0,\n",
              "       0, 1])"
            ]
          },
          "metadata": {},
          "execution_count": 32
        }
      ],
      "source": [
        "pred"
      ]
    },
    {
      "cell_type": "code",
      "source": [
        "ytest.head(5)"
      ],
      "metadata": {
        "colab": {
          "base_uri": "https://localhost:8080/"
        },
        "id": "WG_f_jcY_ECF",
        "outputId": "cd834186-c2c7-4905-aecb-d5b8f6f36f25"
      },
      "id": "WG_f_jcY_ECF",
      "execution_count": null,
      "outputs": [
        {
          "output_type": "execute_result",
          "data": {
            "text/plain": [
              "281    0\n",
              "265    0\n",
              "164    1\n",
              "9      1\n",
              "77     0\n",
              "Name: DEATH_EVENT, dtype: int64"
            ]
          },
          "metadata": {},
          "execution_count": 41
        }
      ]
    },
    {
      "cell_type": "code",
      "execution_count": null,
      "id": "51eeb796",
      "metadata": {
        "id": "51eeb796",
        "outputId": "704fa186-b7a7-4d64-8e5f-305b7ed8833c",
        "colab": {
          "base_uri": "https://localhost:8080/"
        }
      },
      "outputs": [
        {
          "output_type": "execute_result",
          "data": {
            "text/plain": [
              "array([0, 0, 1, 1, 0, 0, 1, 0, 1, 0, 0, 1, 1, 0, 0, 1, 0, 0, 1, 1, 0, 0,\n",
              "       0, 1, 1, 0, 0, 0, 1, 0, 1, 0, 0, 1, 1, 1, 1, 1, 0, 0, 1, 1, 0, 0,\n",
              "       0, 0, 0, 0, 0, 0, 1, 1, 1, 0, 0, 0, 0, 1, 0, 1, 1, 1, 1, 0, 1, 1,\n",
              "       0, 0, 0, 0, 1, 0, 0, 0, 0, 0, 0, 1, 0, 0, 1, 1, 0, 0, 0, 0, 1, 1,\n",
              "       1, 0])"
            ]
          },
          "metadata": {},
          "execution_count": 42
        }
      ],
      "source": [
        "import numpy as np\n",
        "np.array(ytest)"
      ]
    },
    {
      "cell_type": "code",
      "execution_count": null,
      "id": "d2cea4b1",
      "metadata": {
        "id": "d2cea4b1",
        "outputId": "3c889573-bfc3-48f1-c7c5-dc590e1330d3",
        "colab": {
          "base_uri": "https://localhost:8080/",
          "height": 70
        }
      },
      "outputs": [
        {
          "output_type": "execute_result",
          "data": {
            "text/plain": [
              "'              precision    recall  f1-score   support\\n\\n           0       0.71      0.79      0.75        53\\n           1       0.65      0.54      0.59        37\\n\\n    accuracy                           0.69        90\\n   macro avg       0.68      0.67      0.67        90\\nweighted avg       0.68      0.69      0.68        90\\n'"
            ],
            "application/vnd.google.colaboratory.intrinsic+json": {
              "type": "string"
            }
          },
          "metadata": {},
          "execution_count": 43
        }
      ],
      "source": [
        "classification_report(ytest, pred) # actual y = ytest  ; pred = predicted y"
      ]
    },
    {
      "cell_type": "code",
      "execution_count": null,
      "id": "b30bb8cb",
      "metadata": {
        "id": "b30bb8cb",
        "outputId": "b79ad531-966f-426a-db41-5060ffec4f41",
        "colab": {
          "base_uri": "https://localhost:8080/"
        }
      },
      "outputs": [
        {
          "output_type": "stream",
          "name": "stdout",
          "text": [
            "              precision    recall  f1-score   support\n",
            "\n",
            "           0       0.71      0.79      0.75        53\n",
            "           1       0.65      0.54      0.59        37\n",
            "\n",
            "    accuracy                           0.69        90\n",
            "   macro avg       0.68      0.67      0.67        90\n",
            "weighted avg       0.68      0.69      0.68        90\n",
            "\n"
          ]
        }
      ],
      "source": [
        "print(classification_report(ytest, pred))"
      ]
    },
    {
      "cell_type": "code",
      "execution_count": null,
      "id": "fb1e3638",
      "metadata": {
        "id": "fb1e3638",
        "outputId": "6c81cf9b-58b2-457b-d401-3416401d1c0e",
        "colab": {
          "base_uri": "https://localhost:8080/"
        }
      },
      "outputs": [
        {
          "output_type": "execute_result",
          "data": {
            "text/plain": [
              "array([[42, 11],\n",
              "       [17, 20]])"
            ]
          },
          "metadata": {},
          "execution_count": 45
        }
      ],
      "source": [
        "confusion_matrix(ytest, pred)"
      ]
    },
    {
      "cell_type": "code",
      "execution_count": null,
      "id": "690f35cd",
      "metadata": {
        "id": "690f35cd",
        "outputId": "a52a2b52-a124-49f9-b024-8050c2aeb341",
        "colab": {
          "base_uri": "https://localhost:8080/"
        }
      },
      "outputs": [
        {
          "output_type": "execute_result",
          "data": {
            "text/plain": [
              "0.6666666666666666"
            ]
          },
          "metadata": {},
          "execution_count": 46
        }
      ],
      "source": [
        "(43+17) / (43+17+10+20) "
      ]
    },
    {
      "cell_type": "code",
      "execution_count": null,
      "id": "c72331e5",
      "metadata": {
        "id": "c72331e5",
        "outputId": "625d76ee-3029-49bd-96b8-cadbb66257d1",
        "colab": {
          "base_uri": "https://localhost:8080/"
        }
      },
      "outputs": [
        {
          "output_type": "execute_result",
          "data": {
            "text/plain": [
              "0.6888888888888889"
            ]
          },
          "metadata": {},
          "execution_count": 47
        }
      ],
      "source": [
        "accuracy_score(ytest, pred)"
      ]
    },
    {
      "cell_type": "code",
      "execution_count": null,
      "id": "92fa5272",
      "metadata": {
        "id": "92fa5272"
      },
      "outputs": [],
      "source": [
        "tp, fn, fp, tn = confusion_matrix(ytest, pred).reshape(-1) "
      ]
    },
    {
      "cell_type": "code",
      "execution_count": null,
      "id": "20312d46",
      "metadata": {
        "id": "20312d46",
        "outputId": "f369f928-40a2-4ebb-9e5f-d9f4526df899",
        "colab": {
          "base_uri": "https://localhost:8080/"
        }
      },
      "outputs": [
        {
          "output_type": "execute_result",
          "data": {
            "text/plain": [
              "42"
            ]
          },
          "metadata": {},
          "execution_count": 49
        }
      ],
      "source": [
        "tp"
      ]
    },
    {
      "cell_type": "code",
      "execution_count": null,
      "id": "d2b4d827",
      "metadata": {
        "id": "d2b4d827",
        "outputId": "7c6f5171-20e1-4dac-8fca-867e0be9a629",
        "colab": {
          "base_uri": "https://localhost:8080/"
        }
      },
      "outputs": [
        {
          "output_type": "execute_result",
          "data": {
            "text/plain": [
              "11"
            ]
          },
          "metadata": {},
          "execution_count": 50
        }
      ],
      "source": [
        "fn"
      ]
    },
    {
      "cell_type": "code",
      "execution_count": null,
      "id": "1f7339f8",
      "metadata": {
        "id": "1f7339f8",
        "outputId": "8947e563-fbd6-4c9b-ae65-fde5ea8b3ff8",
        "colab": {
          "base_uri": "https://localhost:8080/"
        }
      },
      "outputs": [
        {
          "output_type": "execute_result",
          "data": {
            "text/plain": [
              "20"
            ]
          },
          "metadata": {},
          "execution_count": 51
        }
      ],
      "source": [
        "tn"
      ]
    },
    {
      "cell_type": "code",
      "execution_count": null,
      "id": "1ecb96e2",
      "metadata": {
        "id": "1ecb96e2",
        "outputId": "b381d1b5-5087-41d4-b7a7-24c8d8b9ec2d",
        "colab": {
          "base_uri": "https://localhost:8080/"
        }
      },
      "outputs": [
        {
          "output_type": "execute_result",
          "data": {
            "text/plain": [
              "17"
            ]
          },
          "metadata": {},
          "execution_count": 52
        }
      ],
      "source": [
        "fp"
      ]
    },
    {
      "cell_type": "markdown",
      "id": "178bde15",
      "metadata": {
        "id": "178bde15"
      },
      "source": [
        "# Accuracy"
      ]
    },
    {
      "cell_type": "code",
      "execution_count": null,
      "id": "6b4a86fe",
      "metadata": {
        "id": "6b4a86fe"
      },
      "outputs": [],
      "source": [
        "acc = (tp+tn) / (tp+tn+fp+fn)"
      ]
    },
    {
      "cell_type": "code",
      "execution_count": null,
      "id": "4ce23e09",
      "metadata": {
        "id": "4ce23e09",
        "outputId": "fe9dd89c-453b-4f0a-dc40-38a7616ecbda",
        "colab": {
          "base_uri": "https://localhost:8080/"
        }
      },
      "outputs": [
        {
          "output_type": "execute_result",
          "data": {
            "text/plain": [
              "0.6888888888888889"
            ]
          },
          "metadata": {},
          "execution_count": 54
        }
      ],
      "source": [
        "acc"
      ]
    },
    {
      "cell_type": "code",
      "execution_count": 57,
      "id": "eca18755",
      "metadata": {
        "id": "eca18755",
        "colab": {
          "base_uri": "https://localhost:8080/"
        },
        "outputId": "f7525c02-42a9-4532-fca4-4d0090243d3e"
      },
      "outputs": [
        {
          "output_type": "execute_result",
          "data": {
            "text/plain": [
              "0.711864406779661"
            ]
          },
          "metadata": {},
          "execution_count": 57
        }
      ],
      "source": [
        "# Precison or positive predictive value\n",
        "precision = tp / (tp+fp)\n",
        "precision\n"
      ]
    },
    {
      "cell_type": "code",
      "execution_count": 58,
      "id": "b86e1a72",
      "metadata": {
        "id": "b86e1a72",
        "colab": {
          "base_uri": "https://localhost:8080/"
        },
        "outputId": "01209a76-3ff8-4dcc-86f9-a48c0acf03af"
      },
      "outputs": [
        {
          "output_type": "execute_result",
          "data": {
            "text/plain": [
              "0.7924528301886793"
            ]
          },
          "metadata": {},
          "execution_count": 58
        }
      ],
      "source": [
        "# sensivity or recall\n",
        "sensivity = tp / (tp+fn)\n",
        "sensivity"
      ]
    },
    {
      "cell_type": "code",
      "execution_count": 60,
      "id": "d092ba8b",
      "metadata": {
        "id": "d092ba8b",
        "colab": {
          "base_uri": "https://localhost:8080/"
        },
        "outputId": "dfc2b0c2-2844-48f5-c463-4ecd87245487"
      },
      "outputs": [
        {
          "output_type": "execute_result",
          "data": {
            "text/plain": [
              "0.7521586184841702"
            ]
          },
          "metadata": {},
          "execution_count": 60
        }
      ],
      "source": [
        "#f1 score \n",
        "F1=(precision+sensivity)/2\n",
        "F1"
      ]
    },
    {
      "cell_type": "code",
      "execution_count": 62,
      "id": "7c157854",
      "metadata": {
        "id": "7c157854",
        "colab": {
          "base_uri": "https://localhost:8080/"
        },
        "outputId": "63d0a59e-9cc2-4629-b14c-de1bcf84449e"
      },
      "outputs": [
        {
          "output_type": "execute_result",
          "data": {
            "text/plain": [
              "2.3773584905660377"
            ]
          },
          "metadata": {},
          "execution_count": 62
        }
      ],
      "source": [
        "# F1 score or harmonic mean\n",
        "F1_score=(2*precision*sensivity)/precision+sensivity\n",
        "F1_score"
      ]
    },
    {
      "cell_type": "code",
      "execution_count": null,
      "id": "e4aae0bc",
      "metadata": {
        "id": "e4aae0bc"
      },
      "outputs": [],
      "source": [
        ""
      ]
    },
    {
      "cell_type": "code",
      "execution_count": null,
      "id": "cfd2f46d",
      "metadata": {
        "id": "cfd2f46d"
      },
      "outputs": [],
      "source": [
        ""
      ]
    },
    {
      "cell_type": "markdown",
      "id": "4c030906",
      "metadata": {
        "id": "4c030906"
      },
      "source": [
        "# ROC Curve"
      ]
    },
    {
      "cell_type": "code",
      "execution_count": null,
      "id": "04dcc30c",
      "metadata": {
        "id": "04dcc30c",
        "outputId": "b897a588-3145-41b8-f297-1858660d55ff",
        "colab": {
          "base_uri": "https://localhost:8080/",
          "height": 351
        }
      },
      "outputs": [
        {
          "output_type": "stream",
          "name": "stderr",
          "text": [
            "/usr/local/lib/python3.7/dist-packages/sklearn/utils/deprecation.py:87: FutureWarning: Function plot_roc_curve is deprecated; Function :func:`plot_roc_curve` is deprecated in 1.0 and will be removed in 1.2. Use one of the class methods: :meth:`sklearn.metric.RocCurveDisplay.from_predictions` or :meth:`sklearn.metric.RocCurveDisplay.from_estimator`.\n",
            "  warnings.warn(msg, category=FutureWarning)\n"
          ]
        },
        {
          "output_type": "execute_result",
          "data": {
            "text/plain": [
              "<sklearn.metrics._plot.roc_curve.RocCurveDisplay at 0x7fcdb5278c10>"
            ]
          },
          "metadata": {},
          "execution_count": 55
        },
        {
          "output_type": "display_data",
          "data": {
            "text/plain": [
              "<Figure size 432x288 with 1 Axes>"
            ],
            "image/png": "[encoded data removed]"
          },
          "metadata": {
            "needs_background": "light"
          }
        }
      ],
      "source": [
        "plot_roc_curve(clf, xtest , ytest, color='orange')"
      ]
    },
    {
      "cell_type": "code",
      "execution_count": null,
      "id": "467cc1b5",
      "metadata": {
        "id": "467cc1b5",
        "outputId": "32b9d4a9-cd77-4ab1-8dbf-e6c779e6447c",
        "colab": {
          "base_uri": "https://localhost:8080/",
          "height": 351
        }
      },
      "outputs": [
        {
          "output_type": "stream",
          "name": "stderr",
          "text": [
            "/usr/local/lib/python3.7/dist-packages/sklearn/utils/deprecation.py:87: FutureWarning: Function plot_roc_curve is deprecated; Function :func:`plot_roc_curve` is deprecated in 1.0 and will be removed in 1.2. Use one of the class methods: :meth:`sklearn.metric.RocCurveDisplay.from_predictions` or :meth:`sklearn.metric.RocCurveDisplay.from_estimator`.\n",
            "  warnings.warn(msg, category=FutureWarning)\n"
          ]
        },
        {
          "output_type": "execute_result",
          "data": {
            "text/plain": [
              "[<matplotlib.lines.Line2D at 0x7fcdb4cef0d0>]"
            ]
          },
          "metadata": {},
          "execution_count": 56
        },
        {
          "output_type": "display_data",
          "data": {
            "text/plain": [
              "<Figure size 432x288 with 1 Axes>"
            ],
            "image/png": "[encoded data removed]"
          },
          "metadata": {
            "needs_background": "light"
          }
        }
      ],
      "source": [
        "plot_roc_curve(clf, xtest , ytest, color='orange')\n",
        "plt.plot([0,1],[0,1]) # x, y linear pair value plot in graph."
      ]
    },
    {
      "cell_type": "code",
      "execution_count": null,
      "id": "bc9fd06a",
      "metadata": {
        "id": "bc9fd06a"
      },
      "outputs": [],
      "source": [
        "plt.plot([0,1],[0,1])"
      ]
    },
    {
      "cell_type": "code",
      "execution_count": null,
      "id": "29bd7d3a",
      "metadata": {
        "id": "29bd7d3a",
        "outputId": "884391db-a5a4-467f-ddf9-23314e5642fe"
      },
      "outputs": [
        {
          "data": {
            "text/plain": [
              "[<matplotlib.lines.Line2D at 0x23faeda1e20>]"
            ]
          },
          "execution_count": 77,
          "metadata": {},
          "output_type": "execute_result"
        },
        {
          "data": {
            "image/png": "[encoded data removed]",
            "text/plain": [
              "<Figure size 432x288 with 1 Axes>"
            ]
          },
          "metadata": {
            "needs_background": "light"
          },
          "output_type": "display_data"
        }
      ],
      "source": [
        "l1 = [0,1,2,3,4,5,60,67]\n",
        "l2 = [0,1,20,3,4,50,6,67]\n",
        "plt.plot(l1,l2)"
      ]
    },
    {
      "cell_type": "code",
      "source": [
        ""
      ],
      "metadata": {
        "id": "CQR9k2dZDTi2"
      },
      "id": "CQR9k2dZDTi2",
      "execution_count": null,
      "outputs": []
    }
  ],
  "metadata": {
    "kernelspec": {
      "display_name": "Python 3",
      "language": "python",
      "name": "python3"
    },
    "language_info": {
      "codemirror_mode": {
        "name": "ipython",
        "version": 3
      },
      "file_extension": ".py",
      "mimetype": "text/x-python",
      "name": "python",
      "nbconvert_exporter": "python",
      "pygments_lexer": "ipython3",
      "version": "3.8.8"
    },
    "colab": {
      "name": "Assignment Confusion Matrix.ipynb",
      "provenance": [],
      "collapsed_sections": [],
      "include_colab_link": true
    }
  },
  "nbformat": 4,
  "nbformat_minor": 5
}